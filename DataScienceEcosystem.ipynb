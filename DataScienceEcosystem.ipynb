{
 "cells": [
  {
   "cell_type": "markdown",
   "id": "51f7ef0d-8eca-4f01-aeb5-4d6b4d9812b9",
   "metadata": {},
   "source": [
    "Exercise 2 - Create a markdown cell with the title of the notebook."
   ]
  },
  {
   "cell_type": "markdown",
   "id": "7750d064-4aeb-4a86-93e1-c45599d58907",
   "metadata": {
    "tags": []
   },
   "source": [
    "# Data Science Tools and Ecosystem"
   ]
  },
  {
   "cell_type": "markdown",
   "id": "aa7fed57-798c-480e-a35a-3858d8dda201",
   "metadata": {
    "tags": []
   },
   "source": [
    "# Data Science Tools and Ecosystem"
   ]
  },
  {
   "cell_type": "markdown",
   "id": "a2c96638-290d-4215-9fa6-91275198d78d",
   "metadata": {},
   "source": []
  },
  {
   "cell_type": "markdown",
   "id": "06b5b284-aaba-493e-a379-f94a777c857c",
   "metadata": {},
   "source": [
    "Exercise 3 - Create a markdown cell for an introduction."
   ]
  },
  {
   "cell_type": "markdown",
   "id": "7cd38df6-83c7-42b6-a057-4d966db67883",
   "metadata": {},
   "source": [
    "In this notebook, Data Science Tools and Ecosystem are summarized."
   ]
  },
  {
   "cell_type": "markdown",
   "id": "481bbd75-fba1-445c-9497-395afea7e40d",
   "metadata": {},
   "source": [
    "In this notebook, Data Science Tools and Ecosystem are summarized."
   ]
  },
  {
   "cell_type": "markdown",
   "id": "6df56b20-e8f4-41e0-8e33-4993942a7d72",
   "metadata": {},
   "source": []
  },
  {
   "cell_type": "markdown",
   "id": "8a97e87d-41d2-4020-b5e4-53d6b10ca999",
   "metadata": {},
   "source": [
    "Exercise 10 - Insert a markdown cell to list Objectives"
   ]
  },
  {
   "cell_type": "markdown",
   "id": "8c4bb6a8-79ec-4490-9a64-ae1226247b89",
   "metadata": {},
   "source": [
    "**Objectives:**\n",
    "* List popular languages for Data Science.\n",
    "* List popular libraries for Data Science.\n",
    "* List popular tools for Data Science.\n",
    "* Create simple arithmetic expression to mutiply then add integers.\n",
    "* Convert minutes to hours.\n",
    "\n"
   ]
  },
  {
   "cell_type": "markdown",
   "id": "c5e2e6fa-0475-44b5-b42e-5a501b8a9c7a",
   "metadata": {},
   "source": [
    "**Objectives:**\n",
    "* List popular languages for Data Science.\n",
    "* List popular libraries for Data Science.\n",
    "* List popular tools for Data Science.\n",
    "* Create simple arithmetic expression to mutiply then add integers.\n",
    "* Convert minutes to hours.\n",
    "\n"
   ]
  },
  {
   "cell_type": "markdown",
   "id": "ebd28b1e-58d6-450b-8a58-a5de9cbeef70",
   "metadata": {},
   "source": []
  },
  {
   "cell_type": "markdown",
   "id": "bd5c1cee-4d33-4860-b4af-7ecdc76ab30a",
   "metadata": {},
   "source": [
    "Exercise 4 - Create a markdown cell to list data science languages"
   ]
  },
  {
   "cell_type": "markdown",
   "id": "c17b0154-e7da-4ee1-b83c-6b7bb119707a",
   "metadata": {},
   "source": [
    "Some of the popular languages that Data Scientists use are:\n",
    "1. Python\n",
    "2. R language\n",
    "3. SQL\n",
    "4. Scala"
   ]
  },
  {
   "cell_type": "markdown",
   "id": "5e8effce-0eee-44a6-b740-0a8404df64c6",
   "metadata": {},
   "source": [
    "Some of the popular languages that Data Scientists use are:\n",
    "1. Python\n",
    "2. R language\n",
    "3. SQL\n",
    "4. Scala"
   ]
  },
  {
   "cell_type": "markdown",
   "id": "0572926a-6448-4257-b53b-c0ff77a2ae3d",
   "metadata": {},
   "source": []
  },
  {
   "cell_type": "markdown",
   "id": "fd9b56da-c97c-4cfa-9cd8-10b49c70f584",
   "metadata": {
    "tags": []
   },
   "source": [
    "Exercise 5 - Create a markdown cell to list data science libraries"
   ]
  },
  {
   "cell_type": "markdown",
   "id": "fecc7cec-3508-4aec-8712-7379bc1e8604",
   "metadata": {},
   "source": [
    "Some of the commonly used libraries used by Data Scientists include:\n",
    "1. Pandas\n",
    "2. NumPy\n",
    "3. Tensorflow\n",
    "4. Scikit-learn\n",
    "    "
   ]
  },
  {
   "cell_type": "markdown",
   "id": "96dcbafe-c2e6-4aa5-9a16-ab5885416e15",
   "metadata": {},
   "source": [
    "Some of the commonly used libraries used by Data Scientists include:\n",
    "1. Pandas\n",
    "2. NumPy\n",
    "3. Tensorflow\n",
    "4. Scikit-learn\n",
    "    "
   ]
  },
  {
   "cell_type": "markdown",
   "id": "0a601629-0500-4228-b06a-424af5e07de2",
   "metadata": {},
   "source": []
  },
  {
   "cell_type": "markdown",
   "id": "d7c37992-28b7-44af-9e2e-6bd1462010c0",
   "metadata": {},
   "source": [
    "Exercise 6 - Create a markdown cell with a table of Data Science tools"
   ]
  },
  {
   "cell_type": "markdown",
   "id": "34fbf50e-379f-49e3-aaf2-59bb3fdc2d57",
   "metadata": {},
   "source": [
    "| Data Science Tools |\n",
    "| ------------------ |\n",
    "| JupyterLab |\n",
    "| RStudio |\n",
    "| Spyder |\n",
    "\n"
   ]
  },
  {
   "cell_type": "markdown",
   "id": "3b25505e-5871-40fc-b5c0-ba7eeb9a6db0",
   "metadata": {},
   "source": [
    "| Data Science Tools |\n",
    "| ------------------ |\n",
    "| JupyterLab |\n",
    "| RStudio |\n",
    "| Spyder |\n",
    "\n"
   ]
  },
  {
   "cell_type": "markdown",
   "id": "4ff96616-6802-47f9-8373-3fd8d4fb979b",
   "metadata": {},
   "source": []
  },
  {
   "cell_type": "markdown",
   "id": "c83bcc4b-eb33-4d70-9e2a-c39764113ae0",
   "metadata": {},
   "source": [
    "Exercise 7 - Create a markdown cell introducing arithmetic expression examples"
   ]
  },
  {
   "cell_type": "markdown",
   "id": "186e60ef-5afc-4769-a276-ec58764a3947",
   "metadata": {},
   "source": [
    "### Below are a few examples of evaluating arithmetic expressions in Python"
   ]
  },
  {
   "cell_type": "markdown",
   "id": "329cb1c8-0dc1-4d74-8741-3df46260eaf9",
   "metadata": {},
   "source": [
    "### Below are a few examples of evaluating arithmetic expressions in Python"
   ]
  },
  {
   "cell_type": "markdown",
   "id": "4e2325f5-ff48-4735-907e-924a2cc72dff",
   "metadata": {},
   "source": []
  },
  {
   "cell_type": "markdown",
   "id": "bf4ad722-6d15-4482-b3d0-b7eb8fbcafce",
   "metadata": {},
   "source": [
    "Exercise 8 - Create a code cell to multiply and add numbers"
   ]
  },
  {
   "cell_type": "code",
   "execution_count": null,
   "id": "d69431db-ca25-4890-a792-afa4541f1ab3",
   "metadata": {},
   "outputs": [],
   "source": [
    "# This a simple arithmetic expression to mutiply then add integers."
   ]
  },
  {
   "cell_type": "code",
   "execution_count": 5,
   "id": "c540e193-8d2a-4d3c-925e-bcaab3ea0ae5",
   "metadata": {
    "tags": []
   },
   "outputs": [
    {
     "data": {
      "text/plain": [
       "17"
      ]
     },
     "execution_count": 5,
     "metadata": {},
     "output_type": "execute_result"
    }
   ],
   "source": [
    "(3*4)+5"
   ]
  },
  {
   "cell_type": "markdown",
   "id": "5f1e3df3-4847-473b-9793-0318b47e4066",
   "metadata": {},
   "source": []
  },
  {
   "cell_type": "markdown",
   "id": "800714ae-db66-40c9-8abd-0cb8e47c9744",
   "metadata": {},
   "source": [
    "Exercise 9 - Create a code cell to convert minutes to hours"
   ]
  },
  {
   "cell_type": "code",
   "execution_count": null,
   "id": "3b948e21-fbca-4cca-a925-b346f88178b7",
   "metadata": {},
   "outputs": [],
   "source": [
    "# This will convert 200 minutes to hours by diving by 60."
   ]
  },
  {
   "cell_type": "code",
   "execution_count": 6,
   "id": "909281ba-e9a5-4325-b24b-b300fd565bea",
   "metadata": {
    "tags": []
   },
   "outputs": [
    {
     "data": {
      "text/plain": [
       "3.3333333333333335"
      ]
     },
     "execution_count": 6,
     "metadata": {},
     "output_type": "execute_result"
    }
   ],
   "source": [
    "200/60"
   ]
  },
  {
   "cell_type": "markdown",
   "id": "a75ab81f-f70c-4929-a8ab-228feef207c9",
   "metadata": {},
   "source": []
  },
  {
   "cell_type": "markdown",
   "id": "e3ebcf4f-68f5-4fdc-94f2-552b3a3be3b5",
   "metadata": {},
   "source": [
    "Exercise 11 - Create a markdown cell to indicate the Author's name"
   ]
  },
  {
   "cell_type": "markdown",
   "id": "b323d443-d67e-49f3-9a93-d36d89c6265b",
   "metadata": {},
   "source": [
    "## Author\n",
    "Kristina Pešehodko"
   ]
  },
  {
   "cell_type": "markdown",
   "id": "15216b43-9f52-4d76-8b2a-9ee85dd6fac0",
   "metadata": {},
   "source": [
    "## Author\n",
    "Kristina Pešehodko"
   ]
  }
 ],
 "metadata": {
  "kernelspec": {
   "display_name": "Python 3 (ipykernel)",
   "language": "python",
   "name": "python3"
  },
  "language_info": {
   "codemirror_mode": {
    "name": "ipython",
    "version": 3
   },
   "file_extension": ".py",
   "mimetype": "text/x-python",
   "name": "python",
   "nbconvert_exporter": "python",
   "pygments_lexer": "ipython3",
   "version": "3.11.3"
  }
 },
 "nbformat": 4,
 "nbformat_minor": 5
}
